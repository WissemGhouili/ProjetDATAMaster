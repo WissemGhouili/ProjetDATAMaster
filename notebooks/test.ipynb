{
 "cells": [
  {
   "cell_type": "code",
   "execution_count": 1,
   "id": "b3e5bc0e",
   "metadata": {},
   "outputs": [],
   "source": [
    "# Add the parent directory to sys.path to import from src\n",
    "import sys\n",
    "import os\n",
    "sys.path.append(os.path.abspath(os.path.join(os.getcwd(), '..')))\n",
    "%load_ext autoreload\n",
    "%autoreload 2"
   ]
  },
  {
   "cell_type": "code",
   "execution_count": 3,
   "id": "185e2a5c",
   "metadata": {},
   "outputs": [],
   "source": [
    "from src.dags.data_pipeline_api_test import fetch_one_etablissement"
   ]
  },
  {
   "cell_type": "code",
   "execution_count": 10,
   "id": "2afd7cb7",
   "metadata": {},
   "outputs": [
    {
     "name": "stdout",
     "output_type": "stream",
     "text": [
      "2025-09-15\n"
     ]
    }
   ],
   "source": [
    "print(datetime.now().strftime(\"%Y-%m-%d\"))"
   ]
  },
  {
   "cell_type": "code",
   "execution_count": 15,
   "id": "c2733dda",
   "metadata": {},
   "outputs": [
    {
     "name": "stdout",
     "output_type": "stream",
     "text": [
      "[{'siren': '316930148', 'nic': '00051', 'siret': '31693014800051', 'statutDiffusionEtablissement': 'P', 'dateCreationEtablissement': '2025-09-15', 'trancheEffectifsEtablissement': None, 'anneeEffectifsEtablissement': None, 'activitePrincipaleRegistreMetiersEtablissement': None, 'dateDernierTraitementEtablissement': '2025-08-19T17:09:44.444', 'etablissementSiege': True, 'nombrePeriodesEtablissement': 1, 'uniteLegale': {'etatAdministratifUniteLegale': 'A', 'statutDiffusionUniteLegale': 'P', 'dateCreationUniteLegale': '1995-10-01', 'categorieJuridiqueUniteLegale': '1000', 'denominationUniteLegale': '[ND]', 'sigleUniteLegale': '[ND]', 'denominationUsuelle1UniteLegale': '[ND]', 'denominationUsuelle2UniteLegale': '[ND]', 'denominationUsuelle3UniteLegale': '[ND]', 'sexeUniteLegale': '[ND]', 'nomUniteLegale': '[ND]', 'nomUsageUniteLegale': '[ND]', 'prenom1UniteLegale': '[ND]', 'prenom2UniteLegale': '[ND]', 'prenom3UniteLegale': '[ND]', 'prenom4UniteLegale': '[ND]', 'prenomUsuelUniteLegale': '[ND]', 'pseudonymeUniteLegale': '[ND]', 'activitePrincipaleUniteLegale': '96.09Z', 'nomenclatureActivitePrincipaleUniteLegale': 'NAFRev2', 'identifiantAssociationUniteLegale': None, 'economieSocialeSolidaireUniteLegale': None, 'societeMissionUniteLegale': None, 'caractereEmployeurUniteLegale': None, 'trancheEffectifsUniteLegale': None, 'anneeEffectifsUniteLegale': None, 'nicSiegeUniteLegale': '00051', 'dateDernierTraitementUniteLegale': '2025-08-19T17:09:44.449', 'categorieEntreprise': None, 'anneeCategorieEntreprise': None}, 'adresseEtablissement': {'complementAdresseEtablissement': '[ND]', 'numeroVoieEtablissement': '[ND]', 'indiceRepetitionEtablissement': '[ND]', 'dernierNumeroVoieEtablissement': '[ND]', 'indiceRepetitionDernierNumeroVoieEtablissement': '[ND]', 'typeVoieEtablissement': '[ND]', 'libelleVoieEtablissement': '[ND]', 'codePostalEtablissement': '[ND]', 'libelleCommuneEtablissement': 'LA SEYNE-SUR-MER', 'libelleCommuneEtrangerEtablissement': None, 'distributionSpecialeEtablissement': '[ND]', 'codeCommuneEtablissement': '83126', 'codeCedexEtablissement': '[ND]', 'libelleCedexEtablissement': '[ND]', 'codePaysEtrangerEtablissement': None, 'libellePaysEtrangerEtablissement': None, 'identifiantAdresseEtablissement': '[ND]', 'coordonneeLambertAbscisseEtablissement': '[ND]', 'coordonneeLambertOrdonneeEtablissement': '[ND]'}, 'adresse2Etablissement': {'complementAdresse2Etablissement': None, 'numeroVoie2Etablissement': None, 'indiceRepetition2Etablissement': None, 'typeVoie2Etablissement': None, 'libelleVoie2Etablissement': None, 'codePostal2Etablissement': None, 'libelleCommune2Etablissement': None, 'libelleCommuneEtranger2Etablissement': None, 'distributionSpeciale2Etablissement': None, 'codeCommune2Etablissement': None, 'codeCedex2Etablissement': None, 'libelleCedex2Etablissement': None, 'codePaysEtranger2Etablissement': None, 'libellePaysEtranger2Etablissement': None}, 'periodesEtablissement': [{'dateFin': None, 'dateDebut': '2025-09-15', 'etatAdministratifEtablissement': 'A', 'changementEtatAdministratifEtablissement': False, 'enseigne1Etablissement': '[ND]', 'enseigne2Etablissement': '[ND]', 'enseigne3Etablissement': '[ND]', 'changementEnseigneEtablissement': False, 'denominationUsuelleEtablissement': '[ND]', 'changementDenominationUsuelleEtablissement': False, 'activitePrincipaleEtablissement': '96.09Z', 'nomenclatureActivitePrincipaleEtablissement': 'NAFRev2', 'changementActivitePrincipaleEtablissement': False, 'caractereEmployeurEtablissement': 'N', 'changementCaractereEmployeurEtablissement': False}]}]\n"
     ]
    }
   ],
   "source": [
    "from datetime import datetime, timedelta\n",
    "import requests\n",
    "\n",
    "TOKEN = \"141228f3-ce06-4d71-9228-f3ce06dd7187\"\n",
    "headers = {\n",
    "        \"X-INSEE-Api-Key-Integration\": TOKEN,\n",
    "    }\n",
    "\n",
    "q = f\"periode(etatAdministratifEtablissement:A) AND dateCreationEtablissement:[{datetime.now().strftime(\"%Y-%m-%d\")} TO *]\"\n",
    "url = \"https://api.insee.fr/api-sirene/3.11/siret\"\n",
    "params = {\n",
    "    \"q\": q,\n",
    "    \"nombre\": \"1\"\n",
    "}\n",
    "\n",
    "resp = requests.get(url, headers=headers, params=params)\n",
    "resp.raise_for_status()\n",
    "data = resp.json()\n",
    "etablissements = data.get(\"etablissements\", [])\n",
    "\n",
    "print(etablissements)\n",
    "    "
   ]
  }
 ],
 "metadata": {
  "kernelspec": {
   "display_name": "w",
   "language": "python",
   "name": "python3"
  },
  "language_info": {
   "codemirror_mode": {
    "name": "ipython",
    "version": 3
   },
   "file_extension": ".py",
   "mimetype": "text/x-python",
   "name": "python",
   "nbconvert_exporter": "python",
   "pygments_lexer": "ipython3",
   "version": "3.13.3"
  }
 },
 "nbformat": 4,
 "nbformat_minor": 5
}
